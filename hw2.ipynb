{
 "cells": [
  {
   "cell_type": "markdown",
   "id": "2da0075e-3cdc-4fe9-bcf7-0db5474ee96c",
   "metadata": {},
   "source": [
    "# 🧮 Домашнее задание 2. Семинар 2\n",
    "## Курс: *Алгоритмы и структуры данных*  \n",
    "### Осень 2025\n",
    "\n",
    "---\n",
    "**Автор:** Артём Канаев  \n",
    "---\n",
    "\n",
    "## 📋 Содержание\n",
    "\n",
    "\n",
    " 🔹 [Задача №0. Циклический список](#task0)  \n",
    " 🔹 [Задача №1. Развернуть односвязный список](#task1)  \n",
    " 🔹 [Задача №2. Середина связного списка](#task2)  \n",
    " 🔹 [Задача №3. Удаление элемента из связного списка](#task3)  \n",
    " 🔹 [Задача №4.1. Является ли одна строка исходной для другой строки?](#task4.1)  \n",
    " 🔹 [Задача №4.2. Метод двух указателей. Является ли одна строка исходной для другой строки?](#task4.2)  \n",
    " 🔹 [Задача №5.1. Является ли слово палиндромом](#task5.1)  \n",
    " 🔹 [Задача №5.2. Метод двух указателей. Является ли слово палиндромом](#task5.2)  \n",
    " 🔹 [Задача №6. Слияние двух отсортированных списков](#task6)  \n",
    "\n",
    "\n",
    "\n",
    "> 💡 *Все остальные файлы доступны в GitHub-репозитории:*  \n",
    "> [https://github.com/nansleeper0/vk-hw](https://github.com/nansleeper0/vk-hw)\n"
   ]
  },
  {
   "cell_type": "code",
   "execution_count": 76,
   "id": "3067207f-7229-443f-a2e4-accdb3ed40f9",
   "metadata": {},
   "outputs": [],
   "source": [
    "class Node(object):\n",
    "    def __init__ (self, data=None):\n",
    "        self.value = data\n",
    "        self.next = None\n",
    "    \n",
    "class LinkedList:\n",
    "    def __init__(self):\n",
    "        self.head = None\n",
    "        \n",
    "    def append_front(self, data):\n",
    "        # создаём новый узел\n",
    "        # и добавляем в него новое значение data\n",
    "        new_node = Node(data)\n",
    "        if self.head is None:\n",
    "            # если ранее список был пуст, значит новый элемент\n",
    "            # и будет являться головой (head)\n",
    "            self.head = new_node\n",
    "            return\n",
    "        # если список не пуст, то устанавливаем head\n",
    "        # в качестве параметра next для нового узла\n",
    "        new_node.next = self.head\n",
    "        # записываем в head новый узел\n",
    "        self.head = new_node\n",
    "        \n",
    "    def append_back(self, data):\n",
    "        # создаём новый узел и добавляем в него новое значение data\n",
    "        new_node = Node(data)\n",
    "        if self.head is None:\n",
    "            # если ранее список был пуст, значит новый элемент\n",
    "            # и будет являться головой (head)\n",
    "            self.head = new_node\n",
    "            return\n",
    "            \n",
    "        # если список не был пустым\n",
    "        # начинаем перебирать все элементы до тех пор,\n",
    "        # пока не дойдем до узла у которого next пустой\n",
    "        cur_node = self.head\n",
    "        while cur_node.next is not None:\n",
    "            cur_node = cur_node.next\n",
    "        # элементу, который был последним,\n",
    "        # в поле next записываем новый\n",
    "        cur_node.next = new_node\n",
    "\n"
   ]
  },
  {
   "cell_type": "markdown",
   "id": "655663c5-994f-4e99-a143-1bc6223e4b4f",
   "metadata": {},
   "source": [
    "<a id='task0'></a>\n",
    "## 🧩 Задача №0. Циклический список\n",
    "\n",
    "---\n",
    "\n",
    "### 📘 Описание\n",
    "\n",
    "Дан односвязный список. Необходимо проверить, является ли этот список циклическим. \n",
    "\n",
    "> Циклическим (кольцевым) списком называется список у которого последний узел ссылается на один из предыдущих\n",
    "\n",
    "\n",
    "---\n",
    "\n"
   ]
  },
  {
   "cell_type": "code",
   "execution_count": 38,
   "id": "8b4f59ac-63c0-4f6e-a430-9d5953c0d4d4",
   "metadata": {},
   "outputs": [],
   "source": [
    "def has_cycle(head):\n",
    "    if not head or not head.next:\n",
    "        return False\n",
    "\n",
    "    slow = head\n",
    "    fast = head.next\n",
    "\n",
    "    while slow != fast:\n",
    "        if not fast or not fast.next:\n",
    "            return False\n",
    "        slow = slow.next\n",
    "        fast = fast.next.next\n",
    "\n",
    "    return True\n",
    "\n",
    "def printNode(head):\n",
    "    if not has_cycle(head):\n",
    "        current = head\n",
    "        while current:\n",
    "            print(current.value, end=\" → \")\n",
    "            current = current.next\n",
    "        print(\"None\")\n",
    "    else:\n",
    "        print(\"Cycle has been found!\")"
   ]
  },
  {
   "cell_type": "code",
   "execution_count": 59,
   "id": "c8fb5143-d7ac-4108-8247-dd6f79d802fe",
   "metadata": {},
   "outputs": [
    {
     "name": "stdout",
     "output_type": "stream",
     "text": [
      "False\n"
     ]
    }
   ],
   "source": [
    "a0 = Node(1)\n",
    "a1 = Node(2)\n",
    "a2 = Node(3)\n",
    "a3 = Node(4)\n",
    "\n",
    "# связываем их\n",
    "a0.next = a1\n",
    "a1.next = a2\n",
    "a2.next = a3\n",
    "#a3.next = a2\n",
    "\n",
    "print(has_cycle(a0))  \n"
   ]
  },
  {
   "cell_type": "markdown",
   "id": "53c2daaf-0c2b-4521-8438-470850c2f549",
   "metadata": {},
   "source": [
    "<a id='task1'></a>\n",
    "## 🧩 Задача №1. Развернуть односвязный список\n",
    "\n",
    "---\n",
    "\n",
    "### 📘 Описание\n",
    "\n",
    "Необходимо написать функцию, которая принимает на вход односвязный список и разворачивает его.\n",
    "\n",
    "---\n",
    "\n"
   ]
  },
  {
   "cell_type": "code",
   "execution_count": 60,
   "id": "f1ef0ad5-e064-43dc-9e60-26bf7ec856da",
   "metadata": {},
   "outputs": [],
   "source": [
    "def reverseLinkedList(head):\n",
    "    prev = None\n",
    "    current = head\n",
    "\n",
    "    while current:\n",
    "        next = current.next\n",
    "        current.next = prev\n",
    "        prev = current\n",
    "        current = next\n",
    "\n",
    "    head = prev\n",
    "    return head\n",
    "        \n",
    "        "
   ]
  },
  {
   "cell_type": "code",
   "execution_count": 61,
   "id": "87791505-4b6d-4a7a-b56d-9f45d485a1f9",
   "metadata": {},
   "outputs": [
    {
     "name": "stdout",
     "output_type": "stream",
     "text": [
      "1 → 2 → 3 → 4 → None\n",
      "4 → 3 → 2 → 1 → None\n"
     ]
    }
   ],
   "source": [
    "a0 = Node(1)\n",
    "a1 = Node(2)\n",
    "a2 = Node(3)\n",
    "a3 = Node(4)\n",
    "\n",
    "# связываем их\n",
    "a0.next = a1\n",
    "a1.next = a2\n",
    "a2.next = a3\n",
    "\n",
    "printNode(a0)\n",
    "printNode(reverseLinkedList(a0))"
   ]
  },
  {
   "cell_type": "markdown",
   "id": "56f5ec69-8389-4e20-b041-2c52b875b9da",
   "metadata": {},
   "source": [
    "<a id='task2'></a>\n",
    "## 🧩 Задача №2. Середина связного списка\n",
    "\n",
    "---\n",
    "\n",
    "### 📘 Описание\n",
    "Дан связный список. \n",
    "\n",
    "Необходимо найти середину списка. Сделать это необходимо за O(n) без дополнительных аллокаций.\n",
    "\n",
    "---\n",
    "\n"
   ]
  },
  {
   "cell_type": "code",
   "execution_count": 72,
   "id": "ea029f35-daf1-4993-8ec2-cbd5e59d0b2f",
   "metadata": {},
   "outputs": [],
   "source": [
    "def middleNode(head):\n",
    "    slow = fast = head\n",
    "    while fast and fast.next:\n",
    "        slow = slow.next\n",
    "        fast = fast.next.next\n",
    "    return slow"
   ]
  },
  {
   "cell_type": "code",
   "execution_count": 73,
   "id": "357eee34-160f-4a43-8ff0-5542afb4c8c2",
   "metadata": {},
   "outputs": [
    {
     "data": {
      "text/plain": [
       "3"
      ]
     },
     "execution_count": 73,
     "metadata": {},
     "output_type": "execute_result"
    }
   ],
   "source": [
    "a0 = Node(1)\n",
    "a1 = Node(2)\n",
    "a2 = Node(3)\n",
    "a3 = Node(4)\n",
    "a4 = Node(5)\n",
    "\n",
    "# связываем их\n",
    "a0.next = a1\n",
    "a1.next = a2\n",
    "a2.next = a3\n",
    "a3.next = a4\n",
    "\n",
    "middleNode(a0).value"
   ]
  },
  {
   "cell_type": "markdown",
   "id": "827fe2c5-b01a-400c-bc88-e129c7d1c868",
   "metadata": {},
   "source": [
    "<a id='task3'></a>\n",
    "## 🧩 Задача №3. Удалить элемент из односвязного списка\n",
    "\n",
    "---\n",
    "\n",
    "### 📘 Описание\n",
    "\n",
    "Необходимо написать функцию, которая принимает на вход односвязный список и некоторое целое число **val**. Необходимо удалить узел из списка, значение которого равно val.\n",
    "\n",
    "---\n",
    "\n"
   ]
  },
  {
   "cell_type": "code",
   "execution_count": 78,
   "id": "6bb7091f-96b7-4c0d-8e60-d2a719adebee",
   "metadata": {},
   "outputs": [],
   "source": [
    "def removeElements(head, val):\n",
    "    dummy = Node()\n",
    "    dummy.next = head\n",
    "    prev = dummy\n",
    "    cur = head\n",
    "\n",
    "    while cur:\n",
    "        if cur.value == val:\n",
    "            prev.next = cur.next\n",
    "        else:\n",
    "            prev = cur\n",
    "        cur = cur.next\n",
    "\n",
    "    return dummy.next"
   ]
  },
  {
   "cell_type": "code",
   "execution_count": 80,
   "id": "a7b5a1c8-371e-4a98-8ee5-3b9ea800f5dd",
   "metadata": {},
   "outputs": [
    {
     "name": "stdout",
     "output_type": "stream",
     "text": [
      "1 → 2 → 3 → 5 → None\n"
     ]
    }
   ],
   "source": [
    "a0 = Node(1)\n",
    "a1 = Node(2)\n",
    "a2 = Node(3)\n",
    "a3 = Node(4)\n",
    "a4 = Node(5)\n",
    "\n",
    "# связываем их\n",
    "a0.next = a1\n",
    "a1.next = a2\n",
    "a2.next = a3\n",
    "a3.next = a4\n",
    "\n",
    "printNode(removeElements(a0, 4))"
   ]
  },
  {
   "cell_type": "markdown",
   "id": "2c1b9b1a-0b18-4acc-9ff0-751c0d75275c",
   "metadata": {},
   "source": [
    "<a id='task4.1'></a>\n",
    "## 🧩 Задача №4. Является ли одна строка исходной для другой строки\n",
    "\n",
    "---\n",
    "\n",
    "### 📘 Описание\n",
    "\n",
    "В исходную строку добавили некоторое количество символов.  \n",
    "Необходимо выявить, была ли строка **a** исходной для строки **b**.\n",
    "\n",
    "---\n",
    "\n"
   ]
  },
  {
   "cell_type": "markdown",
   "id": "b76e0bc0-94a9-4fb6-b05c-478b12d534f2",
   "metadata": {},
   "source": [
    "### Метод решения через очередь"
   ]
  },
  {
   "cell_type": "code",
   "execution_count": 94,
   "id": "af0f2d2b-cf7f-4e76-99bb-acc66aca64d8",
   "metadata": {},
   "outputs": [],
   "source": [
    "from queue import Queue\n",
    "\n",
    "def isSubsequence(a, b):\n",
    "    q = Queue()\n",
    "    for el in a:\n",
    "        q.put(el)\n",
    "    for el in b:\n",
    "        if q.empty():\n",
    "            break\n",
    "        first = q.queue[0]\n",
    "        if first == el:\n",
    "            q.get()\n",
    "    return q.empty()\n"
   ]
  },
  {
   "cell_type": "code",
   "execution_count": 95,
   "id": "4f38ba8e-00ad-48a1-9124-d2cd65e185fe",
   "metadata": {},
   "outputs": [
    {
     "name": "stdout",
     "output_type": "stream",
     "text": [
      "True\n",
      "False\n"
     ]
    }
   ],
   "source": [
    "print(isSubsequence(\"abc\", \"ahbgdc\"))\n",
    "print(isSubsequence(\"axc\", \"ahbgdc\")) \n"
   ]
  },
  {
   "cell_type": "markdown",
   "id": "c960c8fa-d191-42c0-92a5-87a85f473d1b",
   "metadata": {},
   "source": [
    "<a id='task4.2'></a>\n",
    "### Метод двух указателей"
   ]
  },
  {
   "cell_type": "code",
   "execution_count": 98,
   "id": "bc6e5263-759a-46f2-ab60-c528093f0ac6",
   "metadata": {},
   "outputs": [],
   "source": [
    "def isSubsequence(a, b):\n",
    "    i = 0  \n",
    "    j = 0 \n",
    "\n",
    "    lenA = len(a)\n",
    "    lenB = len(b)\n",
    "\n",
    "    while i < lenA and j < lenB:\n",
    "        if a[i] == b[j]:\n",
    "            i += 1 \n",
    "        j += 1 \n",
    "\n",
    "    return i == lenA\n"
   ]
  },
  {
   "cell_type": "code",
   "execution_count": 99,
   "id": "4557bf3f-06f4-49b3-bbac-dd7c40854820",
   "metadata": {},
   "outputs": [
    {
     "name": "stdout",
     "output_type": "stream",
     "text": [
      "True\n",
      "False\n"
     ]
    }
   ],
   "source": [
    "print(isSubsequence(\"abc\", \"ahbgdc\")) \n",
    "print(isSubsequence(\"axc\", \"ahbgdc\")) \n"
   ]
  },
  {
   "cell_type": "markdown",
   "id": "f8b6983e-c511-4b00-92e0-dc5993a37dc7",
   "metadata": {},
   "source": [
    "<a id='task5'></a>\n",
    "## 🧩 Задача №5. Является ли слово палиндромом?\n",
    "\n",
    "---\n",
    "\n",
    "### 📘 Описание\n",
    "\n",
    "Напишите функцию, которую принимает на вход строку и возвращает true, если она является палиндромом*. В противном случае верните false.\n",
    "\n",
    "---\n",
    "\n",
    "\n"
   ]
  },
  {
   "cell_type": "markdown",
   "id": "88a177a7-8b7e-416f-b2d0-e811ed1a4349",
   "metadata": {},
   "source": [
    "<a id='task5.1'></a>\n",
    "### Метод через стек"
   ]
  },
  {
   "cell_type": "code",
   "execution_count": 106,
   "id": "2066a30f-0bac-4c72-8ff0-6be59b127a35",
   "metadata": {},
   "outputs": [],
   "source": [
    "from queue import LifoQueue\n",
    "\n",
    "def isPalindrome(s):\n",
    "    stack = LifoQueue()\n",
    "\n",
    "    for char in s:\n",
    "        stack.put(char) \n",
    "\n",
    "    for char in s:\n",
    "        top = stack.get()\n",
    "        if char != top:\n",
    "            return False\n",
    "\n",
    "    return True\n"
   ]
  },
  {
   "cell_type": "code",
   "execution_count": 107,
   "id": "0a99b2ae-a506-47c2-af10-432038533cdf",
   "metadata": {},
   "outputs": [
    {
     "name": "stdout",
     "output_type": "stream",
     "text": [
      "True\n",
      "True\n",
      "False\n"
     ]
    }
   ],
   "source": [
    "print(isPalindrome(\"abba\"))    \n",
    "print(isPalindrome(\"racecar\")) \n",
    "print(isPalindrome(\"hello\")) \n"
   ]
  },
  {
   "cell_type": "markdown",
   "id": "1c7ddab0-4182-4555-911d-174276c3d497",
   "metadata": {},
   "source": [
    "<a id='task5.2'></a>\n",
    "### Метод двух указателей"
   ]
  },
  {
   "cell_type": "code",
   "execution_count": 109,
   "id": "1f684743-b704-4122-8b75-73af7df60aa5",
   "metadata": {},
   "outputs": [],
   "source": [
    "def isPalindrome(s):\n",
    "    left = 0\n",
    "    right = len(s) - 1\n",
    "\n",
    "    while left < right:\n",
    "        if s[left] != s[right]:\n",
    "            return False\n",
    "        left += 1\n",
    "        right -= 1\n",
    "\n",
    "    return True\n"
   ]
  },
  {
   "cell_type": "code",
   "execution_count": 110,
   "id": "e63f224a-7942-4be1-b9de-e91ce33be0f0",
   "metadata": {},
   "outputs": [
    {
     "name": "stdout",
     "output_type": "stream",
     "text": [
      "True\n",
      "True\n",
      "False\n"
     ]
    }
   ],
   "source": [
    "print(isPalindrome(\"abba\"))    \n",
    "print(isPalindrome(\"racecar\")) \n",
    "print(isPalindrome(\"hello\")) \n"
   ]
  },
  {
   "cell_type": "markdown",
   "id": "1e3e162a-e897-4937-8b9b-bece84c6563f",
   "metadata": {},
   "source": [
    "<a id='task6'></a>\n",
    "## 🧩 Задача №6. Слияние двух отсортированных массивов\n",
    "\n",
    "---\n",
    "\n",
    "### 📘 Описание\n",
    "\n",
    "Написать функцию, которая принимает на вход два отсортированных односвязных списка и объединяет их в один отсортированный список. При этом затраты по памяти должны быть O(1). \n",
    "\n",
    "---\n",
    "\n"
   ]
  },
  {
   "cell_type": "code",
   "execution_count": 118,
   "id": "b10e27fa-9091-49ca-acb2-c5616ae49506",
   "metadata": {},
   "outputs": [],
   "source": [
    "def merge_sorted_lists(l1, l2):\n",
    "    \n",
    "    dummy = Node(0)\n",
    "    tail = dummy\n",
    "\n",
    "    while l1 and l2:\n",
    "        if l1.value <= l2.value:\n",
    "            tail.next = l1 \n",
    "            l1 = l1.next \n",
    "        else:\n",
    "            tail.next = l2  \n",
    "            l2 = l2.next   \n",
    "        tail = tail.next  \n",
    "\n",
    "    tail.next = l1 if l1 else l2\n",
    "\n",
    "    return dummy.next"
   ]
  },
  {
   "cell_type": "code",
   "execution_count": 119,
   "id": "7864a0ef-e13b-4707-85eb-a0c6a66769b7",
   "metadata": {},
   "outputs": [
    {
     "name": "stdout",
     "output_type": "stream",
     "text": [
      "1 → 2 → 3 → 4 → 5 → 6 → None\n"
     ]
    }
   ],
   "source": [
    "a1 = Node(1)\n",
    "a2 = Node(3)\n",
    "a3 = Node(5)\n",
    "a1.next = a2\n",
    "a2.next = a3\n",
    "\n",
    "b1 = Node(2)\n",
    "b2 = Node(4)\n",
    "b3 = Node(6)\n",
    "b1.next = b2\n",
    "b2.next = b3\n",
    "\n",
    "merged = merge_sorted_lists(a1, b1)\n",
    "\n",
    "printNode(merged)\n"
   ]
  }
 ],
 "metadata": {
  "kernelspec": {
   "display_name": "Python 3 (ipykernel)",
   "language": "python",
   "name": "python3"
  },
  "language_info": {
   "codemirror_mode": {
    "name": "ipython",
    "version": 3
   },
   "file_extension": ".py",
   "mimetype": "text/x-python",
   "name": "python",
   "nbconvert_exporter": "python",
   "pygments_lexer": "ipython3",
   "version": "3.10.12"
  }
 },
 "nbformat": 4,
 "nbformat_minor": 5
}
