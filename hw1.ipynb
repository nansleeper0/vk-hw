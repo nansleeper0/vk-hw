{
 "cells": [
  {
   "cell_type": "markdown",
   "id": "2da0075e-3cdc-4fe9-bcf7-0db5474ee96c",
   "metadata": {},
   "source": [
    "# 🧮 Первое домашнее задание  \n",
    "## Курс: *Алгоритмы и структуры данных*  \n",
    "### Осень 2025\n",
    "\n",
    "---\n",
    "**Автор:** Артём Канаев  \n",
    "---\n",
    "\n",
    "### 🧠 Содержание\n",
    "1. [Задача №1. Two Sum](#task-1)\n",
    "2. [Задача 2. Реализация алгоритма сортировки](#задача-2-реализация-алгоритма-сортировки)  \n",
    "3. [Задача 3. Работа со структурами данных](#задача-3-работа-со-структурами-данных)  \n",
    "4. [Выводы](#выводы)\n",
    "\n",
    "> 💡 *Все остальные файлы доступны в GitHub-репозитории:*  \n",
    "> [https://github.com/nansleeper0/vk-hw](https://github.com/nansleeper0/vk-hw)\n"
   ]
  },
  {
   "cell_type": "markdown",
   "id": "32cd33fa-1b58-4513-8749-92cce42d3ea6",
   "metadata": {
    "editable": true,
    "slideshow": {
     "slide_type": ""
    },
    "tags": []
   },
   "source": [
    "[Перейти к задаче №1](#задача-№1)\n"
   ]
  },
  {
   "cell_type": "markdown",
   "id": "fb44694c-6e6f-4d36-af40-05a69a1d7c38",
   "metadata": {
    "editable": true,
    "slideshow": {
     "slide_type": ""
    },
    "tags": []
   },
   "source": [
    "[Перейти к задаче №1](#task1)"
   ]
  },
  {
   "cell_type": "code",
   "execution_count": null,
   "id": "176f61c0-95ab-48c3-b628-189262527cb3",
   "metadata": {},
   "outputs": [],
   "source": []
  },
  {
   "cell_type": "code",
   "execution_count": null,
   "id": "f1ef0ad5-e064-43dc-9e60-26bf7ec856da",
   "metadata": {},
   "outputs": [],
   "source": []
  },
  {
   "cell_type": "code",
   "execution_count": null,
   "id": "fcd96d98-e770-4da2-bab3-b02f2b68e14c",
   "metadata": {},
   "outputs": [],
   "source": []
  },
  {
   "cell_type": "code",
   "execution_count": null,
   "id": "6b4cb1f1-ffc7-43c1-9a53-1f90024e0d58",
   "metadata": {},
   "outputs": [],
   "source": []
  },
  {
   "cell_type": "code",
   "execution_count": null,
   "id": "ea029f35-daf1-4993-8ec2-cbd5e59d0b2f",
   "metadata": {},
   "outputs": [],
   "source": []
  },
  {
   "cell_type": "code",
   "execution_count": null,
   "id": "9f84f10d-b67e-477a-90cb-5931a48fe0bd",
   "metadata": {},
   "outputs": [],
   "source": []
  },
  {
   "cell_type": "code",
   "execution_count": null,
   "id": "6bb7091f-96b7-4c0d-8e60-d2a719adebee",
   "metadata": {},
   "outputs": [],
   "source": []
  },
  {
   "cell_type": "code",
   "execution_count": null,
   "id": "84fc38db-db47-4c09-972c-c5c1079fa67b",
   "metadata": {},
   "outputs": [],
   "source": []
  },
  {
   "cell_type": "code",
   "execution_count": null,
   "id": "364543ef-6541-4a89-85e7-8d7c9db58f0c",
   "metadata": {},
   "outputs": [],
   "source": []
  },
  {
   "cell_type": "code",
   "execution_count": null,
   "id": "a254e572-18d7-41c9-be68-df6bdbdcd412",
   "metadata": {},
   "outputs": [],
   "source": []
  },
  {
   "cell_type": "code",
   "execution_count": null,
   "id": "2066a30f-0bac-4c72-8ff0-6be59b127a35",
   "metadata": {},
   "outputs": [],
   "source": []
  },
  {
   "cell_type": "code",
   "execution_count": null,
   "id": "2e9320f9-57b8-41d4-8ec0-d7e806cc4e54",
   "metadata": {},
   "outputs": [],
   "source": []
  },
  {
   "cell_type": "code",
   "execution_count": null,
   "id": "6f4f7ecf-0e78-4d69-9065-ad66ea5fc6b5",
   "metadata": {},
   "outputs": [],
   "source": []
  },
  {
   "cell_type": "code",
   "execution_count": null,
   "id": "c9cd392f-aa23-48d5-a62c-151d6ceebb43",
   "metadata": {},
   "outputs": [],
   "source": []
  },
  {
   "cell_type": "code",
   "execution_count": null,
   "id": "a3481711-fd26-4110-a684-c40f0e82473a",
   "metadata": {},
   "outputs": [],
   "source": []
  },
  {
   "cell_type": "code",
   "execution_count": null,
   "id": "3a628bd1-94bd-4a30-b603-602552668dce",
   "metadata": {},
   "outputs": [],
   "source": []
  },
  {
   "cell_type": "code",
   "execution_count": null,
   "id": "17797c22-e7d1-4472-bda1-f76f93d65e94",
   "metadata": {},
   "outputs": [],
   "source": []
  },
  {
   "cell_type": "code",
   "execution_count": null,
   "id": "c9252825-faef-4000-b209-218383c1e4b9",
   "metadata": {},
   "outputs": [],
   "source": []
  },
  {
   "cell_type": "code",
   "execution_count": null,
   "id": "994b3bda-be9a-4fbb-ba07-545ca90c4f65",
   "metadata": {},
   "outputs": [],
   "source": []
  },
  {
   "cell_type": "code",
   "execution_count": null,
   "id": "6433a59c-3e16-4dc8-aaaa-e5d2f48f59c4",
   "metadata": {
    "editable": true,
    "slideshow": {
     "slide_type": ""
    },
    "tags": []
   },
   "outputs": [],
   "source": []
  },
  {
   "cell_type": "code",
   "execution_count": null,
   "id": "d23b93aa-876d-41e6-a084-82d2294f1a96",
   "metadata": {},
   "outputs": [],
   "source": []
  },
  {
   "cell_type": "code",
   "execution_count": null,
   "id": "49b757bf-e4d6-4f07-b81d-bbe433ea07ba",
   "metadata": {},
   "outputs": [],
   "source": []
  },
  {
   "cell_type": "code",
   "execution_count": null,
   "id": "2da9e9b8-1c1c-4877-b803-af73c921e7cf",
   "metadata": {},
   "outputs": [],
   "source": []
  },
  {
   "cell_type": "markdown",
   "id": "de82c559-6905-4408-87cc-691fbc1365e9",
   "metadata": {},
   "source": [
    "[Another Cell](#another_cell)\n"
   ]
  },
  {
   "cell_type": "code",
   "execution_count": null,
   "id": "c3924966-4baf-48b2-87f2-23c16ca98701",
   "metadata": {},
   "outputs": [],
   "source": []
  },
  {
   "cell_type": "code",
   "execution_count": null,
   "id": "680891c1-66a6-451e-a980-e0020898c2b1",
   "metadata": {},
   "outputs": [],
   "source": []
  },
  {
   "cell_type": "code",
   "execution_count": null,
   "id": "d3e53c7a-6226-43a2-bb30-c1f6eaaf4baa",
   "metadata": {},
   "outputs": [],
   "source": []
  },
  {
   "cell_type": "code",
   "execution_count": null,
   "id": "19a5a106-6acf-47c4-a099-d73c06d28791",
   "metadata": {},
   "outputs": [],
   "source": []
  },
  {
   "cell_type": "code",
   "execution_count": null,
   "id": "ce6c8f60-8fb6-4c91-869d-ddd72b015f1b",
   "metadata": {},
   "outputs": [],
   "source": []
  },
  {
   "cell_type": "code",
   "execution_count": null,
   "id": "29a3ad3e-6cd3-4cc1-aee3-b29bf834f491",
   "metadata": {},
   "outputs": [],
   "source": []
  },
  {
   "cell_type": "code",
   "execution_count": null,
   "id": "33af2b32-4b88-4955-b2d5-ee6033f6999b",
   "metadata": {},
   "outputs": [],
   "source": []
  },
  {
   "cell_type": "code",
   "execution_count": null,
   "id": "65f449ce-4bbb-4ff2-b05b-31e409babbc5",
   "metadata": {},
   "outputs": [],
   "source": []
  },
  {
   "cell_type": "code",
   "execution_count": null,
   "id": "5bb23476-c52f-43cf-8e5d-30061ba5887f",
   "metadata": {},
   "outputs": [],
   "source": []
  },
  {
   "cell_type": "code",
   "execution_count": null,
   "id": "f84278a5-df55-45fe-a3fe-735455ba0fff",
   "metadata": {},
   "outputs": [],
   "source": []
  },
  {
   "cell_type": "code",
   "execution_count": null,
   "id": "d24a8e06-bd08-4463-b98f-ba4c6d75808b",
   "metadata": {},
   "outputs": [],
   "source": []
  },
  {
   "cell_type": "code",
   "execution_count": null,
   "id": "db4ce820-d9f6-4df9-80eb-64c5f7112546",
   "metadata": {},
   "outputs": [],
   "source": []
  },
  {
   "cell_type": "code",
   "execution_count": null,
   "id": "0467a331-2a44-4ba0-b87a-eb7a7bd0ae02",
   "metadata": {},
   "outputs": [],
   "source": []
  },
  {
   "cell_type": "code",
   "execution_count": null,
   "id": "fc8a2a06-e8cd-422f-b290-ae63c309835d",
   "metadata": {},
   "outputs": [],
   "source": []
  },
  {
   "cell_type": "code",
   "execution_count": null,
   "id": "53ede69b-f1b5-4fd3-96a5-dd4fa970db0e",
   "metadata": {},
   "outputs": [],
   "source": []
  },
  {
   "cell_type": "code",
   "execution_count": null,
   "id": "6fdd64cf-de1c-43a1-a73e-6a1accfecf59",
   "metadata": {},
   "outputs": [],
   "source": []
  },
  {
   "cell_type": "code",
   "execution_count": null,
   "id": "bc59f39f-3b32-4813-a6b1-bd690c9a3aa3",
   "metadata": {},
   "outputs": [],
   "source": []
  },
  {
   "cell_type": "code",
   "execution_count": null,
   "id": "714fc897-1227-44e2-a4be-409de7314450",
   "metadata": {},
   "outputs": [],
   "source": []
  },
  {
   "cell_type": "code",
   "execution_count": null,
   "id": "857fc509-608e-4a60-8112-09af7bbfff54",
   "metadata": {},
   "outputs": [],
   "source": []
  },
  {
   "cell_type": "code",
   "execution_count": null,
   "id": "bb3a2bea-3204-4180-a7ab-5e1fb4d84c19",
   "metadata": {},
   "outputs": [],
   "source": []
  },
  {
   "cell_type": "code",
   "execution_count": null,
   "id": "0a020990-53e4-41e5-bb79-33ff780a4df6",
   "metadata": {},
   "outputs": [],
   "source": []
  },
  {
   "cell_type": "code",
   "execution_count": null,
   "id": "4b129cba-18cf-4fae-bc35-9f6d54862fe6",
   "metadata": {},
   "outputs": [],
   "source": []
  },
  {
   "cell_type": "markdown",
   "id": "703435cd-9cad-4ab4-860b-722c8e879c0a",
   "metadata": {},
   "source": [
    "### AAAA\n"
   ]
  },
  {
   "cell_type": "markdown",
   "id": "c0b005ca-2022-4ba1-bf5d-e767c9a00288",
   "metadata": {},
   "source": [
    "<a id='another_cell'></a>\n"
   ]
  },
  {
   "cell_type": "code",
   "execution_count": null,
   "id": "e202d5ce-cfbe-4b9e-8db0-7bfdb180fca8",
   "metadata": {},
   "outputs": [],
   "source": []
  },
  {
   "cell_type": "code",
   "execution_count": null,
   "id": "3ba6cf87-3908-489c-bca1-18bf48af774f",
   "metadata": {},
   "outputs": [],
   "source": []
  },
  {
   "cell_type": "code",
   "execution_count": null,
   "id": "71630d67-a96e-4099-9d85-a0e065cbc2de",
   "metadata": {},
   "outputs": [],
   "source": []
  },
  {
   "cell_type": "code",
   "execution_count": null,
   "id": "1fcce5d2-c78d-47f6-b5c3-8505e73ecb01",
   "metadata": {},
   "outputs": [],
   "source": []
  },
  {
   "cell_type": "code",
   "execution_count": null,
   "id": "1ab3a184-77ad-4006-88de-cdd71aea151d",
   "metadata": {},
   "outputs": [],
   "source": []
  },
  {
   "cell_type": "code",
   "execution_count": null,
   "id": "c28f086e-aec1-4ee2-963e-7d859ef28b5f",
   "metadata": {},
   "outputs": [],
   "source": []
  }
 ],
 "metadata": {
  "kernelspec": {
   "display_name": "Python 3 (ipykernel)",
   "language": "python",
   "name": "python3"
  },
  "language_info": {
   "codemirror_mode": {
    "name": "ipython",
    "version": 3
   },
   "file_extension": ".py",
   "mimetype": "text/x-python",
   "name": "python",
   "nbconvert_exporter": "python",
   "pygments_lexer": "ipython3",
   "version": "3.10.12"
  }
 },
 "nbformat": 4,
 "nbformat_minor": 5
}
