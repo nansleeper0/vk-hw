{
 "cells": [
  {
   "cell_type": "code",
   "execution_count": null,
   "id": "f42b9206-6273-4c2d-8d87-baa16c76fdb9",
   "metadata": {},
   "outputs": [],
   "source": []
  }
 ],
 "metadata": {
  "kernelspec": {
   "display_name": "",
   "name": ""
  },
  "language_info": {
   "name": ""
  }
 },
 "nbformat": 4,
 "nbformat_minor": 5
}
