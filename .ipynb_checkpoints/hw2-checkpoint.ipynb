{
 "cells": [
  {
   "cell_type": "markdown",
   "id": "2da0075e-3cdc-4fe9-bcf7-0db5474ee96c",
   "metadata": {},
   "source": [
    "# 🧮 Домашнее задание 1. Семинар 1\n",
    "## Курс: *Алгоритмы и структуры данных*  \n",
    "### Осень 2025\n",
    "\n",
    "---\n",
    "**Автор:** Артём Канаев  \n",
    "---\n",
    "\n",
    "## 📋 Содержание\n",
    "\n",
    " 🔹 [Задача №0. Сумма всех чисел](#task0)  \n",
    " 🔹 [Задача №1. Two Sum](#task1)  \n",
    " 🔹 [Задача №2. Развернуть массив](#task2)  \n",
    " 🔹 [Задача №3. Развернуть часть массива](#task3)  \n",
    " 🔹 [Задача №4. Слияние двух отсортированных массивов](#task4)  \n",
    " 🔹 [Задача №5. Сортировка массива из 0 и 1](#task5)  \n",
    " 🔹 [Задача №6. Задача флага Нидерландов](#task6)  \n",
    " 🔹 [Задача №7. Передвинуть чётные числа вперёд](#task7)  \n",
    " 🔹 [Задача №8. Нули в конец](#task8)\n",
    "\n",
    "\n",
    "\n",
    "> 💡 *Все остальные файлы доступны в GitHub-репозитории:*  \n",
    "> [https://github.com/nansleeper0/vk-hw](https://github.com/nansleeper0/vk-hw)\n"
   ]
  },
  {
   "cell_type": "markdown",
   "id": "655663c5-994f-4e99-a143-1bc6223e4b4f",
   "metadata": {},
   "source": [
    "<a id='task0'></a>\n",
    "## 🧩 Задача №0. Сумма всех чисел\n",
    "\n",
    "---\n",
    "\n",
    "### 📘 Описание\n",
    "\n",
    "Найти **сумму всех целых чисел** от `1` до `1.000.000` включительно.\n",
    "\n",
    "---\n",
    "\n"
   ]
  },
  {
   "cell_type": "code",
   "execution_count": 3,
   "id": "8b4f59ac-63c0-4f6e-a430-9d5953c0d4d4",
   "metadata": {},
   "outputs": [
    {
     "name": "stdout",
     "output_type": "stream",
     "text": [
      "500000500000.0\n"
     ]
    }
   ],
   "source": [
    "print((10 ** 6 + 1) * 10 ** 6 / 2)"
   ]
  },
  {
   "cell_type": "markdown",
   "id": "53c2daaf-0c2b-4521-8438-470850c2f549",
   "metadata": {},
   "source": [
    "<a id='task1'></a>\n",
    "## 🧩 Задача №1. Two Sum\n",
    "\n",
    "---\n",
    "\n",
    "### 📘 Описание\n",
    "\n",
    "> 🔹 Дан отсортированный по возрастанию массив целых чисел `nums`  \n",
    "и некоторое число `target`.  \n",
    "> 🔹 Необходимо найти **два элемента массива**, сумма которых равна `target`,  \n",
    "и вернуть **их индексы** в виде списка `[i, j]`.\n",
    "\n",
    "\n",
    "---\n",
    "\n",
    "### 💡 Пример\n",
    "\n",
    "```python\n",
    "Вход:\n",
    "[3, 8, 9, 11, 16, 18, 19, 21]\n",
    "25\n",
    "Выход: \n",
    "[2, 4]\n"
   ]
  },
  {
   "cell_type": "code",
   "execution_count": 24,
   "id": "f1ef0ad5-e064-43dc-9e60-26bf7ec856da",
   "metadata": {},
   "outputs": [],
   "source": [
    "def two_sum(nums, target):\n",
    "    left = 0\n",
    "    right = len(nums) - 1\n",
    "    while left < right:\n",
    "        sum = nums[left] + nums[right]\n",
    "        if sum == target:\n",
    "            return [left, right]\n",
    "        elif sum < target:\n",
    "            left += 1\n",
    "        else:\n",
    "            right -= 1\n",
    "    pass"
   ]
  },
  {
   "cell_type": "code",
   "execution_count": 25,
   "id": "87791505-4b6d-4a7a-b56d-9f45d485a1f9",
   "metadata": {},
   "outputs": [
    {
     "data": {
      "text/plain": [
       "[2, 4]"
      ]
     },
     "execution_count": 25,
     "metadata": {},
     "output_type": "execute_result"
    }
   ],
   "source": [
    "two_sum([3, 8, 9, 11, 16, 18, 19, 21], 25)"
   ]
  },
  {
   "cell_type": "markdown",
   "id": "56f5ec69-8389-4e20-b041-2c52b875b9da",
   "metadata": {},
   "source": [
    "<a id='task2'></a>\n",
    "## 🧩 Задача №2. Развернуть массив\n",
    "\n",
    "---\n",
    "\n",
    "### 📘 Описание\n",
    "\n",
    "> 🔹 Дан массив целых чисел.  \n",
    "> 🔹 Необходимо **развернуть** его.  \n",
    "> 🔹 Сделать это нужно за **линейное время** без дополнительных аллокаций (т.е. *in-place*).\n",
    "\n",
    "---\n",
    "\n",
    "### 💡 Пример\n",
    "\n",
    "```python\n",
    "Вход:  \n",
    "[3, 8, 6, 9, 9, 8, 6]  \n",
    "Выход: \n",
    "[6, 8, 9, 9, 6, 8, 3]\n"
   ]
  },
  {
   "cell_type": "code",
   "execution_count": 26,
   "id": "ea029f35-daf1-4993-8ec2-cbd5e59d0b2f",
   "metadata": {},
   "outputs": [],
   "source": [
    "def reverseArray(arr):\n",
    "    left = 0\n",
    "    right = len(arr) - 1\n",
    "\n",
    "    while left < right:\n",
    "        arr[left], arr[right] = arr[right], arr[left]\n",
    "        left += 1\n",
    "        right -= 1\n",
    "    return arr"
   ]
  },
  {
   "cell_type": "code",
   "execution_count": 27,
   "id": "0449b087-428f-4908-9083-dfa7dee8df81",
   "metadata": {},
   "outputs": [
    {
     "data": {
      "text/plain": [
       "[6, 8, 9, 9, 6, 8, 3]"
      ]
     },
     "execution_count": 27,
     "metadata": {},
     "output_type": "execute_result"
    }
   ],
   "source": [
    "reverseArray([3, 8, 6, 9, 9, 8, 6] )"
   ]
  },
  {
   "cell_type": "markdown",
   "id": "827fe2c5-b01a-400c-bc88-e129c7d1c868",
   "metadata": {},
   "source": [
    "<a id='task3'></a>\n",
    "## 🧩 Задача №3. Развернуть часть массива\n",
    "\n",
    "---\n",
    "\n",
    "### 📘 Описание\n",
    "\n",
    "> 🔹 Дан массив целых чисел.  \n",
    "> 🔹 Необходимо **повернуть (сдвинуть)** часть массива справа налево,  \n",
    "> количество элементов для поворота задаётся вторым параметром `k`.  \n",
    "> 🔹 Сделать это нужно за **линейное время** и **без дополнительных аллокаций**.\n",
    "\n",
    "---\n",
    "\n",
    "### 💡 Пример\n",
    "\n",
    "```python\n",
    "Вход: \n",
    "[1, 2, 3, 4, 5, 6, 7]  \n",
    "3  \n",
    "Выход: \n",
    "[5, 6, 7, 1, 2, 3, 4]\n"
   ]
  },
  {
   "cell_type": "code",
   "execution_count": 38,
   "id": "6bb7091f-96b7-4c0d-8e60-d2a719adebee",
   "metadata": {},
   "outputs": [],
   "source": [
    "def reverseArray(arr, left, right):\n",
    "    while left < right:\n",
    "        arr[left], arr[right] = arr[right], arr[left]\n",
    "        left += 1\n",
    "        right -= 1\n",
    "\n",
    "def solution(arr, k):\n",
    "    n = len(arr)\n",
    "\n",
    "    reverseArray(arr, 0, n - 1)\n",
    "    reverseArray(arr, 0, k % n - 1)\n",
    "    reverseArray(arr, k % n, n - 1)\n",
    "\n",
    "    return arr"
   ]
  },
  {
   "cell_type": "code",
   "execution_count": 39,
   "id": "a7b5a1c8-371e-4a98-8ee5-3b9ea800f5dd",
   "metadata": {},
   "outputs": [
    {
     "data": {
      "text/plain": [
       "[5, 6, 7, 1, 2, 3, 4]"
      ]
     },
     "execution_count": 39,
     "metadata": {},
     "output_type": "execute_result"
    }
   ],
   "source": [
    "solution([1, 2, 3, 4, 5, 6, 7], 3)"
   ]
  },
  {
   "cell_type": "markdown",
   "id": "2c1b9b1a-0b18-4acc-9ff0-751c0d75275c",
   "metadata": {},
   "source": [
    "<a id='task4'></a>\n",
    "## 🧩 Задача №4. Слияние двух отсортированных массивов\n",
    "\n",
    "---\n",
    "\n",
    "### 📘 Описание\n",
    "\n",
    "> 🔹 Даны два **отсортированных по возрастанию массива**.  \n",
    "> 🔹 Необходимо написать функцию, которая **объединит их в один отсортированный массив**  \n",
    "> 🔹 Мы не должны создавать третий массив.\n",
    "\n",
    "---\n",
    "\n",
    "### 💡 Пример\n",
    "\n",
    "```python\n",
    "Вход:  \n",
    "[3, 8, 10, 11, 0, 0, 0]  \n",
    "[1, 7, 9]  \n",
    "\n",
    "Выход:  \n",
    "[1, 3, 7, 8, 9, 10, 11]\n"
   ]
  },
  {
   "cell_type": "code",
   "execution_count": 52,
   "id": "364543ef-6541-4a89-85e7-8d7c9db58f0c",
   "metadata": {},
   "outputs": [],
   "source": [
    "def merge(arr1, arr2):\n",
    "    pointer1 = len(arr1) - len(arr2) - 1\n",
    "    pointer2 = len(arr2) - 1\n",
    "    pointer3 = len(arr1) - 1\n",
    "\n",
    "    while pointer2 >= 0:\n",
    "        if pointer1 >= 0 and arr1[pointer1] > arr2[pointer2]:\n",
    "            arr1[pointer3] = arr1[pointer1]\n",
    "            pointer1 -= 1\n",
    "        else:\n",
    "            arr1[pointer3] = arr2[pointer2]\n",
    "            pointer2 -= 1\n",
    "        pointer3 -= 1\n",
    "    return arr1\n"
   ]
  },
  {
   "cell_type": "code",
   "execution_count": 88,
   "id": "af0f2d2b-cf7f-4e76-99bb-acc66aca64d8",
   "metadata": {},
   "outputs": [
    {
     "data": {
      "text/plain": [
       "[1, 3, 7, 8, 9, 10, 11]"
      ]
     },
     "execution_count": 88,
     "metadata": {},
     "output_type": "execute_result"
    }
   ],
   "source": [
    "arr1 = [3, 8, 10, 11]\n",
    "arr2 = [1, 7, 9]\n",
    "\n",
    "arr1 += [0]  * len(arr2)    #убрать, если массив arr1 содержит нули в конце\n",
    "\n",
    "merge(arr1, arr2)"
   ]
  },
  {
   "cell_type": "markdown",
   "id": "f8b6983e-c511-4b00-92e0-dc5993a37dc7",
   "metadata": {},
   "source": [
    "<a id='task5'></a>\n",
    "## 🧩 Задача №5. Сортировка массива из 0 и 1\n",
    "\n",
    "---\n",
    "\n",
    "### 📘 Описание\n",
    "\n",
    "> 🔹 Дан массив, содержащий только **0** и **1**.  \n",
    "> 🔹 Необходимо написать функцию, которая **сортирует его**, чтобы все нули оказались **в начале**, а все единицы — **в конце**.  \n",
    "\n",
    "---\n",
    "\n",
    "### 💡 Пример\n",
    "\n",
    "```python\n",
    "Вход:  \n",
    "[1, 0, 1, 0, 0, 1, 1, 0]  \n",
    "Выход: \n",
    "[0, 0, 0, 0, 1, 1, 1, 1]\n"
   ]
  },
  {
   "cell_type": "code",
   "execution_count": 58,
   "id": "2066a30f-0bac-4c72-8ff0-6be59b127a35",
   "metadata": {},
   "outputs": [],
   "source": [
    "def sort_binary_array(arr):\n",
    "    left, right =0, len(arr) - 1\n",
    "    while left < right:\n",
    "        if arr[left] == 1:\n",
    "            arr[left], arr[right] = arr[right], arr[left]\n",
    "            right -= 1\n",
    "        else:\n",
    "            left += 1\n",
    "    return arr"
   ]
  },
  {
   "cell_type": "code",
   "execution_count": 59,
   "id": "0a99b2ae-a506-47c2-af10-432038533cdf",
   "metadata": {},
   "outputs": [
    {
     "data": {
      "text/plain": [
       "[0, 0, 0, 0, 1, 1, 1, 1]"
      ]
     },
     "execution_count": 59,
     "metadata": {},
     "output_type": "execute_result"
    }
   ],
   "source": [
    "sort_binary_array([1, 0, 1, 0, 0, 1, 1, 0])"
   ]
  },
  {
   "cell_type": "markdown",
   "id": "1e3e162a-e897-4937-8b9b-bece84c6563f",
   "metadata": {},
   "source": [
    "<a id='task6'></a>\n",
    "## 🧩 Задача №6. Задача флага Нидерландов\n",
    "\n",
    "---\n",
    "\n",
    "### 📘 Описание\n",
    "\n",
    "> 🔹 Дан массив, состоящий из **нулей**, **единиц** и **двоек**.  \n",
    "> 🔹 Необходимо **отсортировать массив за линейное время** (*O(n)*)  \n",
    "\n",
    "📎 Ссылка на задачу:  \n",
    "[LeetCode – Sort Colors](https://leetcode.com/problems/sort-colors/description/)\n",
    "\n",
    "---\n",
    "\n",
    "### 💡 Пример\n",
    "\n",
    "```python\n",
    "Вход:  \n",
    "[2, 0, 2, 1, 1, 0]  \n",
    "Выход: \n",
    "[0, 0, 1, 1, 2, 2]\n"
   ]
  },
  {
   "cell_type": "code",
   "execution_count": 66,
   "id": "6f4f7ecf-0e78-4d69-9065-ad66ea5fc6b5",
   "metadata": {},
   "outputs": [],
   "source": [
    "def sortColors(nums):\n",
    "    low = 0\n",
    "    mid = 0\n",
    "    high = len(nums) - 1\n",
    "\n",
    "    while mid <= high:\n",
    "        if nums[mid] == 0:\n",
    "            nums[low], nums[mid] = nums[mid], nums[low]\n",
    "            low += 1\n",
    "            mid += 1\n",
    "        elif nums[mid] == 1:\n",
    "            mid += 1\n",
    "        elif nums[mid] == 2:\n",
    "            nums[mid], nums[high] = nums[high], nums[mid]\n",
    "            high -= 1\n",
    "    return nums"
   ]
  },
  {
   "cell_type": "code",
   "execution_count": 68,
   "id": "56e9624b-c3b4-4729-a607-9a630d0268aa",
   "metadata": {},
   "outputs": [
    {
     "data": {
      "text/plain": [
       "[0, 0, 0, 1, 1, 1, 1, 2, 2, 2]"
      ]
     },
     "execution_count": 68,
     "metadata": {},
     "output_type": "execute_result"
    }
   ],
   "source": [
    "sortColors([2, 0, 2, 1, 1, 0, 1, 2, 0, 1])"
   ]
  },
  {
   "cell_type": "markdown",
   "id": "69b8dae6-038a-43ed-bbfd-eb81fae994c9",
   "metadata": {},
   "source": [
    "<a id='task7'></a>\n",
    "## 🧩 Задача №7. Передвинуть чётные числа вперёд\n",
    "\n",
    "---\n",
    "\n",
    "### 📘 Описание\n",
    "\n",
    "> 🔹 Дан **неотсортированный массив** целых чисел.  \n",
    "> 🔹 Необходимо **перенести в начало массива все чётные числа**,  \n",
    "> сохранив их очередность.  \n",
    "> 🔹 Остальные элементы (нечётные) должны остаться после них. (про их очередность ничего не сказано)\n",
    "\n",
    "---\n",
    "\n",
    "### 💡 Пример\n",
    "\n",
    "```python\n",
    "Ввод:  \n",
    "[7, 3, 2, 4, 1, 11, 8, 9]  \n",
    "Пример вывода: \n",
    "[2, 4, 8, 7, 3, 1, 11, 9]\n"
   ]
  },
  {
   "cell_type": "code",
   "execution_count": 76,
   "id": "a3481711-fd26-4110-a684-c40f0e82473a",
   "metadata": {},
   "outputs": [],
   "source": [
    "def evenFirst(arr):\n",
    "    evenIndex = 0\n",
    "    for i in range(len(arr)):\n",
    "        if arr[i] % 2 == 0:\n",
    "            arr[i], arr[evenIndex] = arr[evenIndex], arr[i]\n",
    "            evenIndex += 1\n",
    "    return arr"
   ]
  },
  {
   "cell_type": "code",
   "execution_count": 79,
   "id": "01d07dcd-7c7c-4d99-b539-3c44ccd297ff",
   "metadata": {},
   "outputs": [
    {
     "data": {
      "text/plain": [
       "[2, 4, 8, 3, 1, 11, 7, 9]"
      ]
     },
     "execution_count": 79,
     "metadata": {},
     "output_type": "execute_result"
    }
   ],
   "source": [
    "evenFirst([7, 3, 2, 4, 1, 11, 8, 9])"
   ]
  },
  {
   "cell_type": "markdown",
   "id": "3ac263e0-f052-44fe-af8c-2e8da59518de",
   "metadata": {},
   "source": [
    "<a id='task8'></a>\n",
    "## 🧩 Задача №8. Нули в конец\n",
    "\n",
    "---\n",
    "\n",
    "### 📘 Описание\n",
    "\n",
    "> В школе прошёл экзамен по математике.  \n",
    "> Несколько человек списали решения и были замечены.  \n",
    "> Этим школьникам поставили **0 баллов**.  \n",
    ">  \n",
    "> Задача: есть массив с оценками, среди которых встречаются нули.  \n",
    "> Необходимо **переместить все нули в конец массива**,  \n",
    "> чтобы «несправедливые школьники» оказались в конце списка,  \n",
    "> при этом **порядок остальных элементов должен сохраниться**.\n",
    "\n",
    "---\n",
    "\n",
    "### 💡 Пример\n",
    "\n",
    "```python\n",
    "Пример ввода: [0, 0, 1, 0, 3, 12]\n",
    "Пример вывода: [1, 3, 12, 0, 0, 0]\n",
    "\n",
    "Пример ввода: [0, 33, 57, 88, 60, 0, 0, 80, 99]\n",
    "Пример вывода: [33, 57, 88, 60, 80, 99, 0, 0, 0]\n",
    "\n",
    "Пример ввода: [0, 0, 0, 18, 16, 0, 0, 77, 99]\n",
    "Пример вывода: [18, 16, 77, 99, 0, 0, 0, 0, 0]\n"
   ]
  },
  {
   "cell_type": "code",
   "execution_count": 89,
   "id": "92de5dd4-af92-428e-aba9-6ff89892533d",
   "metadata": {},
   "outputs": [],
   "source": [
    "def cheaters_to_kamchatka(arr):\n",
    "    left = 0\n",
    "    for right in range(len(arr)):\n",
    "        if arr[right] != 0:\n",
    "            arr[left], arr[right] = arr[right], arr[left]\n",
    "            left += 1\n",
    "    return arr"
   ]
  },
  {
   "cell_type": "code",
   "execution_count": 90,
   "id": "17797c22-e7d1-4472-bda1-f76f93d65e94",
   "metadata": {},
   "outputs": [
    {
     "name": "stdout",
     "output_type": "stream",
     "text": [
      "[1, 3, 12, 0, 0, 0]\n",
      "[33, 57, 88, 60, 80, 99, 0, 0, 0]\n",
      "[18, 16, 77, 99, 0, 0, 0, 0, 0]\n"
     ]
    }
   ],
   "source": [
    "print(cheaters_to_kamchatka([0, 0, 1, 0, 3, 12]))\n",
    "print(cheaters_to_kamchatka([0, 33, 57, 88, 60, 0, 0, 80, 99]))\n",
    "print(cheaters_to_kamchatka([0, 0, 0, 18, 16, 0, 0, 77, 99]))"
   ]
  },
  {
   "cell_type": "code",
   "execution_count": null,
   "id": "b10e27fa-9091-49ca-acb2-c5616ae49506",
   "metadata": {},
   "outputs": [],
   "source": []
  }
 ],
 "metadata": {
  "kernelspec": {
   "display_name": "Python 3 (ipykernel)",
   "language": "python",
   "name": "python3"
  },
  "language_info": {
   "codemirror_mode": {
    "name": "ipython",
    "version": 3
   },
   "file_extension": ".py",
   "mimetype": "text/x-python",
   "name": "python",
   "nbconvert_exporter": "python",
   "pygments_lexer": "ipython3",
   "version": "3.10.12"
  }
 },
 "nbformat": 4,
 "nbformat_minor": 5
}
